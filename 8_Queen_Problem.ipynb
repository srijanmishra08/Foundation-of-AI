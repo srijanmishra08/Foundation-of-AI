{
  "nbformat": 4,
  "nbformat_minor": 0,
  "metadata": {
    "colab": {
      "provenance": [],
      "authorship_tag": "ABX9TyMqtynYt0lMmkZFWGD7nY5x",
      "include_colab_link": true
    },
    "kernelspec": {
      "name": "python3",
      "display_name": "Python 3"
    },
    "language_info": {
      "name": "python"
    }
  },
  "cells": [
    {
      "cell_type": "markdown",
      "metadata": {
        "id": "view-in-github",
        "colab_type": "text"
      },
      "source": [
        "<a href=\"https://colab.research.google.com/github/srijanmishra08/Foundation-of-AI/blob/main/8_Queen_Problem.ipynb\" target=\"_parent\"><img src=\"https://colab.research.google.com/assets/colab-badge.svg\" alt=\"Open In Colab\"/></a>"
      ]
    },
    {
      "cell_type": "code",
      "execution_count": 1,
      "metadata": {
        "colab": {
          "base_uri": "https://localhost:8080/"
        },
        "id": "kKkoD2boUvnw",
        "outputId": "68e34356-f607-4a00-eaca-90e74d7746a9"
      },
      "outputs": [
        {
          "output_type": "stream",
          "name": "stdout",
          "text": [
            "[[1, 0, 0, 0, 0, 0, 0, 0], [0, 0, 0, 0, 0, 0, 1, 0], [0, 0, 0, 0, 1, 0, 0, 0], [0, 0, 0, 0, 0, 0, 0, 1], [0, 1, 0, 0, 0, 0, 0, 0], [0, 0, 0, 1, 0, 0, 0, 0], [0, 0, 0, 0, 0, 1, 0, 0], [0, 0, 1, 0, 0, 0, 0, 0]]\n"
          ]
        }
      ],
      "source": [
        "N = 8 # (size of the chessboard)\n",
        " \n",
        "def solveNQueens(board, col):\n",
        "    if col == N:\n",
        "        print(board)\n",
        "        return True\n",
        "    for i in range(N):\n",
        "        if isSafe(board, i, col):\n",
        "            board[i][col] = 1\n",
        "            if solveNQueens(board, col + 1):\n",
        "                return True\n",
        "            board[i][col] = 0\n",
        "    return False\n",
        " \n",
        "def isSafe(board, row, col):\n",
        "    for x in range(col):\n",
        "        if board[row][x] == 1:\n",
        "            return False\n",
        "    for x, y in zip(range(row, -1, -1), range(col, -1, -1)):\n",
        "        if board[x][y] == 1:\n",
        "            return False\n",
        "    for x, y in zip(range(row, N, 1), range(col, -1, -1)):\n",
        "        if board[x][y] == 1:\n",
        "            return False\n",
        "    return True\n",
        " \n",
        "board = [[0 for x in range(N)] for y in range(N)]\n",
        "if not solveNQueens(board, 0):\n",
        "    print(\"No solution found\")"
      ]
    }
  ]
}