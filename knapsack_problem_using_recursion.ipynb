{
  "nbformat": 4,
  "nbformat_minor": 0,
  "metadata": {
    "colab": {
      "provenance": [],
      "authorship_tag": "ABX9TyOLfi/RrXcFw5LxYNcXSnCO",
      "include_colab_link": true
    },
    "kernelspec": {
      "name": "python3",
      "display_name": "Python 3"
    },
    "language_info": {
      "name": "python"
    }
  },
  "cells": [
    {
      "cell_type": "markdown",
      "metadata": {
        "id": "view-in-github",
        "colab_type": "text"
      },
      "source": [
        "<a href=\"https://colab.research.google.com/github/srijanmishra08/Foundation-of-AI/blob/main/knapsack_problem_using_recursion.ipynb\" target=\"_parent\"><img src=\"https://colab.research.google.com/assets/colab-badge.svg\" alt=\"Open In Colab\"/></a>"
      ]
    },
    {
      "cell_type": "code",
      "execution_count": 2,
      "metadata": {
        "colab": {
          "base_uri": "https://localhost:8080/"
        },
        "id": "RAj7mv8yVafA",
        "outputId": "18f88eb9-3d30-4d73-ec9f-6f895cd19b27"
      },
      "outputs": [
        {
          "output_type": "stream",
          "name": "stdout",
          "text": [
            "220\n"
          ]
        }
      ],
      "source": [
        "# A naive recursive implementation\n",
        "# of 0-1 Knapsack Problem\n",
        " \n",
        "# Returns the maximum value that\n",
        "# can be put in a knapsack of\n",
        "# capacity W\n",
        " \n",
        " \n",
        "def knapSack(W, wt, val, n):\n",
        " \n",
        "    # Base Case\n",
        "    if n == 0 or W == 0:\n",
        "        return 0\n",
        " \n",
        "    # If weight of the nth item is\n",
        "    # more than Knapsack of capacity W,\n",
        "    # then this item cannot be included\n",
        "    # in the optimal solution\n",
        "    if (wt[n-1] > W):\n",
        "        return knapSack(W, wt, val, n-1)\n",
        " \n",
        "    # return the maximum of two cases:\n",
        "    # (1) nth item included\n",
        "    # (2) not included\n",
        "    else:\n",
        "        return max(\n",
        "            val[n-1] + knapSack(\n",
        "                W-wt[n-1], wt, val, n-1),\n",
        "            knapSack(W, wt, val, n-1))\n",
        " \n",
        "# end of function knapSack\n",
        " \n",
        " \n",
        "# Driver Code\n",
        "if __name__ == '__main__':\n",
        "    profit = [60, 100, 120]\n",
        "    weight = [10, 20, 30]\n",
        "    W = 50\n",
        "    n = len(profit)\n",
        "    print (knapSack(W, weight, profit, n))"
      ]
    }
  ]
}